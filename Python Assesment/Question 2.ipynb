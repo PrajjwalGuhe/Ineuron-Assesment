{
 "cells": [
  {
   "cell_type": "code",
   "execution_count": 12,
   "metadata": {},
   "outputs": [
    {
     "name": "stdout",
     "output_type": "stream",
     "text": [
      "5\n"
     ]
    }
   ],
   "source": [
    "from collections import Counter\n",
    "\n",
    "def len_repeat_word(input_string):\n",
    "    \n",
    "    words = input_string.split()\n",
    "\n",
    "    word_counts = Counter(words)\n",
    "\n",
    "    common_word , highest_frequency = word_counts.most_common(1)[0]\n",
    "\n",
    "    return len(common_word)\n",
    "\n",
    "input_string = \"write write write all the number from from from 1 to 100\"\n",
    "result = len_repeat_word(input_string)\n",
    "print(result)"
   ]
  },
  {
   "cell_type": "code",
   "execution_count": 13,
   "metadata": {},
   "outputs": [
    {
     "name": "stdout",
     "output_type": "stream",
     "text": [
      "5\n"
     ]
    }
   ],
   "source": [
    "input_string_1 = \"hello world world world world world\"\n",
    "result_1 = len_repeat_word(input_string_1)\n",
    "print(result_1)"
   ]
  },
  {
   "cell_type": "markdown",
   "metadata": {},
   "source": [
    "##### Explanation - In above test case the most frequent word is \"world\" with a length of 5."
   ]
  },
  {
   "cell_type": "code",
   "execution_count": 15,
   "metadata": {},
   "outputs": [
    {
     "name": "stdout",
     "output_type": "stream",
     "text": [
      "7\n"
     ]
    }
   ],
   "source": [
    "input_string_2 = \"Ineuron assesment submission Ineuron Python test Ineuron\"\n",
    "result_2 = len_repeat_word(input_string_2)\n",
    "print(result_2)"
   ]
  },
  {
   "cell_type": "markdown",
   "metadata": {},
   "source": [
    "##### Explanation - In above test case the most frequent word is \"Ineuron\" with a length of 7."
   ]
  }
 ],
 "metadata": {
  "kernelspec": {
   "display_name": "base",
   "language": "python",
   "name": "python3"
  },
  "language_info": {
   "codemirror_mode": {
    "name": "ipython",
    "version": 3
   },
   "file_extension": ".py",
   "mimetype": "text/x-python",
   "name": "python",
   "nbconvert_exporter": "python",
   "pygments_lexer": "ipython3",
   "version": "3.11.4"
  }
 },
 "nbformat": 4,
 "nbformat_minor": 2
}
